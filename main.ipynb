{
 "cells": [
  {
   "cell_type": "code",
   "execution_count": 1,
   "metadata": {},
   "outputs": [],
   "source": [
    "import os, json, csv\n",
    "from collections import namedtuple\n",
    "import pandas as pd\n",
    "%matplotlib inline"
   ]
  },
  {
   "cell_type": "code",
   "execution_count": 2,
   "metadata": {},
   "outputs": [
    {
     "data": {
      "text/plain": [
       "['sample_reviews.json',\n",
       " 'sample_reviews.csv',\n",
       " 'review5.json',\n",
       " 'review5.csv',\n",
       " 'review4.json',\n",
       " 'review4.csv',\n",
       " 'review3.json',\n",
       " 'review3.csv',\n",
       " 'review2.json',\n",
       " 'review2.csv',\n",
       " 'review1.json',\n",
       " 'review1.csv',\n",
       " 'products.json']"
      ]
     },
     "execution_count": 2,
     "metadata": {},
     "output_type": "execute_result"
    }
   ],
   "source": [
    "# listing files in data directory\n",
    "files_in_data = sorted(os.listdir('data'), reverse = True)\n",
    "files_in_data"
   ]
  },
  {
   "cell_type": "code",
   "execution_count": 3,
   "metadata": {},
   "outputs": [
    {
     "data": {
      "text/plain": [
       "['data/sample_reviews.json',\n",
       " 'data/sample_reviews.csv',\n",
       " 'data/review5.json',\n",
       " 'data/review5.csv',\n",
       " 'data/review4.json',\n",
       " 'data/review4.csv',\n",
       " 'data/review3.json',\n",
       " 'data/review3.csv',\n",
       " 'data/review2.json',\n",
       " 'data/review2.csv',\n",
       " 'data/review1.json',\n",
       " 'data/review1.csv',\n",
       " 'data/products.json']"
      ]
     },
     "execution_count": 3,
     "metadata": {},
     "output_type": "execute_result"
    }
   ],
   "source": [
    "# paths of files in data\n",
    "paths = []\n",
    "for file in files_in_data:\n",
    "     paths.append(os.path.join('data', file))\n",
    "sorted(paths, reverse = True)"
   ]
  },
  {
   "cell_type": "code",
   "execution_count": 4,
   "metadata": {},
   "outputs": [
    {
     "data": {
      "text/plain": [
       "['data/sample_reviews.csv',\n",
       " 'data/review5.csv',\n",
       " 'data/review4.csv',\n",
       " 'data/review3.csv',\n",
       " 'data/review2.csv',\n",
       " 'data/review1.csv']"
      ]
     },
     "execution_count": 4,
     "metadata": {},
     "output_type": "execute_result"
    }
   ],
   "source": [
    "# finding csv files in data\n",
    "files_with_csv = []\n",
    "for file in files_in_data:\n",
    "    if os.path.splitext(file)[1][1:] == 'csv':\n",
    "        files_with_csv.append(os.path.join('data', file))\n",
    "sorted(files_with_csv, reverse = True)"
   ]
  },
  {
   "cell_type": "code",
   "execution_count": 5,
   "metadata": {},
   "outputs": [
    {
     "data": {
      "text/plain": [
       "['data/review5.json',\n",
       " 'data/review5.csv',\n",
       " 'data/review4.json',\n",
       " 'data/review4.csv',\n",
       " 'data/review3.json',\n",
       " 'data/review3.csv',\n",
       " 'data/review2.json',\n",
       " 'data/review2.csv',\n",
       " 'data/review1.json',\n",
       " 'data/review1.csv']"
      ]
     },
     "execution_count": 5,
     "metadata": {},
     "output_type": "execute_result"
    }
   ],
   "source": [
    "# finding all review files in data\n",
    "review = []\n",
    "for file in files_in_data:\n",
    "    if os.path.splitext(file)[0][:6] == 'review':\n",
    "        review.append(os.path.join('data', file))\n",
    "sorted(review, reverse = True)"
   ]
  },
  {
   "cell_type": "code",
   "execution_count": 6,
   "metadata": {},
   "outputs": [],
   "source": [
    "# function to read json files by their name and parse out data\n",
    "def read_json(filename):\n",
    "    \n",
    "    file = open(os.path.join(\"data\", filename+\".json\"), encoding=\"utf-8\")\n",
    "    json_str = file.read()\n",
    "    file.close()\n",
    "\n",
    "    data = json.loads(json_str)\n",
    "    return data"
   ]
  },
  {
   "cell_type": "code",
   "execution_count": 7,
   "metadata": {},
   "outputs": [],
   "source": [
    "# read json files by their path and parse data\n",
    "def read_json_path(path):\n",
    "    \n",
    "    file = open(path, encoding=\"utf-8\")\n",
    "    json_str = file.read()\n",
    "    file.close()\n",
    "\n",
    "    data = json.loads(json_str)\n",
    "    return data"
   ]
  },
  {
   "cell_type": "code",
   "execution_count": 8,
   "metadata": {},
   "outputs": [
    {
     "data": {
      "text/plain": [
       "{'B00QFQRELG': 'Amazon 9W PowerFast Official OEM USB Charger and Power Adapter for Fire Tablets and Kindle eReaders',\n",
       " 'B01BH83OOM': 'Amazon Tap Smart Assistant Alexa enabled (black) Brand New',\n",
       " 'B00ZV9PXP2': 'All-New Kindle E-reader - Black, 6\" Glare-Free Touchscreen Display, Wi-Fi - Includes Special Offers',\n",
       " 'B0751RGYJV': 'Amazon Echo (2nd Generation) Smart Assistant Oak Finish Priority Shipping',\n",
       " 'B00IOY8XWQ': 'Kindle Voyage E-reader, 6 High-Resolution Display (300 ppi) with Adaptive Built-in Light, PagePress Sensors, Wi-Fi - Includes Special Offers',\n",
       " 'B0752151W6': 'All-new Echo (2nd Generation) with improved sound, powered by Dolby, and a new design Walnut Finish',\n",
       " 'B018Y226XO': 'Fire Kids Edition Tablet, 7 Display, Wi-Fi, 16 GB, Pink Kid-Proof Case',\n",
       " 'B01ACEKAJY': 'All-New Fire HD 8 Tablet, 8 HD Display, Wi-Fi, 32 GB - Includes Special Offers, Black',\n",
       " 'B01AHB9CYG': 'All-New Fire HD 8 Tablet, 8 HD Display, Wi-Fi, 32 GB - Includes Special Offers, Magenta',\n",
       " 'B01AHB9CN2': 'All-New Fire HD 8 Tablet, 8 HD Display, Wi-Fi, 16 GB - Includes Special Offers, Magenta',\n",
       " 'B00VINDBJK': 'Kindle Oasis E-reader with Leather Charging Cover - Merlot, 6 High-Resolution Display (300 ppi), Wi-Fi - Includes Special Offers',\n",
       " 'B01AHB9C1E': 'Fire HD 8 Tablet with Alexa, 8 HD Display, 32 GB, Tangerine - with Special Offers',\n",
       " 'B018Y229OU': 'Fire Tablet, 7 Display, Wi-Fi, 8 GB - Includes Special Offers, Magenta'}"
      ]
     },
     "execution_count": 8,
     "metadata": {},
     "output_type": "execute_result"
    }
   ],
   "source": [
    "# products we're working with\n",
    "products = read_json('products')\n",
    "products"
   ]
  },
  {
   "cell_type": "code",
   "execution_count": 9,
   "metadata": {},
   "outputs": [],
   "source": [
    "# read csv files and output specified data from reviews\n",
    "def read_csv(filename, number, category):\n",
    "    \n",
    "    f = open(os.path.join('data', filename+'.csv'), encoding='utf-8') # opening csv\n",
    "    f_reader = csv.reader(f) # read file\n",
    "    f_data = list(f_reader) # convert data to list\n",
    "    f.close() # close file\n",
    "    header = f_data[0] # specify headers\n",
    "    data = f_data[1:] # specify data\n",
    "    for review in data: # loop through data\n",
    "        if review[header.index('review id')] == number: # find review in data with the input review number \n",
    "            return review[header.index(category)] # return data of the input category"
   ]
  },
  {
   "cell_type": "code",
   "execution_count": 10,
   "metadata": {},
   "outputs": [
    {
     "data": {
      "text/plain": [
       "'It does what it is suppose to. No problems with it...'"
      ]
     },
     "execution_count": 10,
     "metadata": {},
     "output_type": "execute_result"
    }
   ],
   "source": [
    "# review text of review 1410\n",
    "review_1410 = read_csv('review1', '1410', 'review text')\n",
    "review_1410"
   ]
  },
  {
   "cell_type": "code",
   "execution_count": 11,
   "metadata": {},
   "outputs": [
    {
     "data": {
      "text/plain": [
       "'I hate amazon app store. Nothing good in there. The tablet is too slow for what I do... it is good for reading only....'"
      ]
     },
     "execution_count": 11,
     "metadata": {},
     "output_type": "execute_result"
    }
   ],
   "source": [
    "# review text of review 69899\n",
    "# checking all files in data for review 69899\n",
    "for file in files_in_data: \n",
    "    if file.split('.')[1] == 'csv':\n",
    "        if read_csv(file.split('.')[0], '69899', 'review text') != None:\n",
    "            review_69899 = read_csv(file.split('.')[0], '69899', 'review text')\n",
    "review_69899"
   ]
  },
  {
   "cell_type": "code",
   "execution_count": 12,
   "metadata": {},
   "outputs": [
    {
     "data": {
      "text/plain": [
       "'Perfection'"
      ]
     },
     "execution_count": 12,
     "metadata": {},
     "output_type": "execute_result"
    }
   ],
   "source": [
    "# title of review 28013\n",
    "for file in files_in_data: \n",
    "    if file.split('.')[1] == 'csv':\n",
    "        if read_csv(file.split('.')[0], '28013', 'review title') != None:\n",
    "            review_28013 = read_csv(file.split('.')[0], '28013', 'review title')\n",
    "review_28013"
   ]
  },
  {
   "cell_type": "code",
   "execution_count": 13,
   "metadata": {},
   "outputs": [
    {
     "data": {
      "text/plain": [
       "'review3.csv'"
      ]
     },
     "execution_count": 13,
     "metadata": {},
     "output_type": "execute_result"
    }
   ],
   "source": [
    "# file of review 28013\n",
    "for file in files_in_data: \n",
    "    if file.split('.')[1] == 'csv':\n",
    "        f = open(os.path.join(\"data\", file), encoding=\"utf-8\")\n",
    "        reader = csv.DictReader(f)\n",
    "        for row in reader:\n",
    "            if row['review id'] == '28013':\n",
    "                file_28013 = file\n",
    "        f.close()\n",
    "file_28013"
   ]
  },
  {
   "cell_type": "code",
   "execution_count": 14,
   "metadata": {},
   "outputs": [
    {
     "data": {
      "text/plain": [
       "{'10101': ['Mikey123456789', 'B00QFQRELG'],\n",
       " '99904': ['diamond', 'B00QFQRELG'],\n",
       " '89604': ['Pat91', 'B00QFQRELG'],\n",
       " '58704': ['Frank', 'B00QFQRELG'],\n",
       " '38104': ['LADYD92', 'B00QFQRELG']}"
      ]
     },
     "execution_count": 14,
     "metadata": {},
     "output_type": "execute_result"
    }
   ],
   "source": [
    "# data found in sample reviews file\n",
    "read_json('sample_reviews')"
   ]
  },
  {
   "cell_type": "code",
   "execution_count": 15,
   "metadata": {},
   "outputs": [],
   "source": [
    "# creating a named tuple to store individual reviews\n",
    "Review = namedtuple('Review', ['id', 'username', 'asin', 'title', 'text', 'rating', 'do_recommend', 'num_helpful', 'date'])"
   ]
  },
  {
   "cell_type": "code",
   "execution_count": 16,
   "metadata": {},
   "outputs": [],
   "source": [
    "# get review data from respective json and csv files\n",
    "# and combining data from both to output a list of reviews\n",
    "# formatted in the Review named tuple\n",
    "def get_reviews(file_json, file_csv):\n",
    "    reviews = [] # initialize list of reviews\n",
    "    \n",
    "    with open(os.path.join(\"data\", file_json), encoding=\"utf-8\") as file: # open json file\n",
    "        try: # error-handling in case of broken files\n",
    "            json_str = file.read() # read json file\n",
    "            data_json = json.loads(json_str) # load json data\n",
    "            file.close() # close file\n",
    "        except:\n",
    "            return None # if file is broken, function skips it\n",
    "    \n",
    "\n",
    "    f = open(os.path.join('data', file_csv), encoding='utf-8') # open csv file\n",
    "    f_reader = csv.reader(f) # read csv\n",
    "    f_data = list(f_reader) # convert data to list\n",
    "    f.close() \n",
    "    header = f_data[0] # specify header\n",
    "    data_csv = f_data[1:] # specify data\n",
    "    \n",
    "    \n",
    "    rv = {} # initialize review dict\n",
    "    for review in data_csv: # loop through data from csv\n",
    "        try: # error-handling for broken files\n",
    "            rv['review_id'] = int(review[0]) # set review id as int for review dict\n",
    "            rv['review_title'] = review[header.index('review title')] # set review title in review dict\n",
    "            rv['review_text'] = review[header.index('review text')] # set review text in review dict\n",
    "            rv['review_rating'] = int(review[header.index('review rating')]) # set review rating as int in review dict\n",
    "            if review[header.index('review do_recommend')] == 'True': # setting and converting recommendations to boolean values\n",
    "                rv['review_recommend'] = True\n",
    "            elif review[header.index('review do_recommend')] == 'False':\n",
    "                rv['review_recommend'] = False\n",
    "            rv['review_helpful'] = int(review[header.index('review num_helpful')]) # set number helpful as int\n",
    "            rv['review_date'] = review[header.index('review date')] # set review date in review dict\n",
    "            for i in data_json: # loop through data from json\n",
    "                if int(i) == rv['review_id']: # find current iteration review in json file\n",
    "                    rv['uname'] = data_json[i][0] # set username to dict\n",
    "                    rv['asin'] = data_json[i][1] # set product asin to dict\n",
    "            review = Review(rv['review_id'], # organize dict into review named tuple\n",
    "                        rv['uname'], \n",
    "                        rv['asin'], \n",
    "                        rv['review_title'], \n",
    "                        rv['review_text'], \n",
    "                        rv['review_rating'], \n",
    "                        rv['review_recommend'], \n",
    "                        rv['review_helpful'], \n",
    "                        rv['review_date'])\n",
    "            reviews.append(review) # append current iteration review to list\n",
    "        except:\n",
    "            continue # if review is broken, skip it\n",
    "    return reviews # return list of reviews from review files"
   ]
  },
  {
   "cell_type": "code",
   "execution_count": 17,
   "metadata": {},
   "outputs": [
    {
     "data": {
      "text/plain": [
       "[Review(id=10101, username='Mikey123456789', asin='B00QFQRELG', title='A charger', text='It seems to work just like any other usb plug in charger.', rating=5, do_recommend=True, num_helpful=0, date='2017-01-02'),\n",
       " Review(id=99904, username='diamond', asin='B00QFQRELG', title='amazon power fast usb charger', text='got this for my kindle 7 tablet . Does an excellent job charging the kindle fire 7 a lot faster than the one it came with the kindle fire', rating=5, do_recommend=True, num_helpful=2, date='2016-06-03'),\n",
       " Review(id=89604, username='Pat91', asin='B00QFQRELG', title='Amazon powerfast wall charger', text='Best kindle charger ever. Took 30 minutes to being my kindle back to life.', rating=5, do_recommend=True, num_helpful=0, date='2016-11-21'),\n",
       " Review(id=58704, username='Frank', asin='B00QFQRELG', title='correct plug for kindle', text='Quickly charges kindle so son can use it. Worked great right out of the package', rating=5, do_recommend=True, num_helpful=0, date='2016-10-14'),\n",
       " Review(id=38104, username='LADYD92', asin='B00QFQRELG', title='Fast Charger', text='Bought this charger for the Kindle voyage and its great.', rating=5, do_recommend=True, num_helpful=0, date='2016-09-30')]"
      ]
     },
     "execution_count": 17,
     "metadata": {},
     "output_type": "execute_result"
    }
   ],
   "source": [
    "# reviews in sample reviews\n",
    "get_reviews('sample_reviews.json', 'sample_reviews.csv')"
   ]
  },
  {
   "cell_type": "code",
   "execution_count": 18,
   "metadata": {},
   "outputs": [
    {
     "data": {
      "text/plain": [
       "[Review(id=10101, username='Mikey123456789', asin='B00QFQRELG', title='A charger', text='It seems to work just like any other usb plug in charger.', rating=5, do_recommend=True, num_helpful=0, date='2017-01-02'),\n",
       " Review(id=99904, username='diamond', asin='B00QFQRELG', title='amazon power fast usb charger', text='got this for my kindle 7 tablet . Does an excellent job charging the kindle fire 7 a lot faster than the one it came with the kindle fire', rating=5, do_recommend=True, num_helpful=2, date='2016-06-03'),\n",
       " Review(id=89604, username='Pat91', asin='B00QFQRELG', title='Amazon powerfast wall charger', text='Best kindle charger ever. Took 30 minutes to being my kindle back to life.', rating=5, do_recommend=True, num_helpful=0, date='2016-11-21'),\n",
       " Review(id=58704, username='Frank', asin='B00QFQRELG', title='correct plug for kindle', text='Quickly charges kindle so son can use it. Worked great right out of the package', rating=5, do_recommend=True, num_helpful=0, date='2016-10-14'),\n",
       " Review(id=38104, username='LADYD92', asin='B00QFQRELG', title='Fast Charger', text='Bought this charger for the Kindle voyage and its great.', rating=5, do_recommend=True, num_helpful=0, date='2016-09-30'),\n",
       " Review(id=76407, username='RobT', asin='B00QFQRELG', title='Good charger', text='This wall charger works exactly as described for the Kindle Paperwhite.', rating=5, do_recommend=True, num_helpful=0, date='2016-07-22'),\n",
       " Review(id=83810, username='Iodine', asin='B00QFQRELG', title='Great item', text='Have been using this item and it seems to be working quite well.', rating=5, do_recommend=True, num_helpful=0, date='2017-03-15'),\n",
       " Review(id=32310, username='Akki', asin='B00QFQRELG', title='Nice one', text='Good one and working without any issues. Slim and portable', rating=5, do_recommend=True, num_helpful=0, date='2016-06-24'),\n",
       " Review(id=22010, username='STRIPYGOOSE', asin='B00QFQRELG', title='not any faster', text='it does not charge any faster than regular charger.', rating=3, do_recommend=False, num_helpful=0, date='2016-08-18'),\n",
       " Review(id=1410, username='Jk60', asin='B00QFQRELG', title='Satisfied', text='It does what it is suppose to. No problems with it...', rating=4, do_recommend=True, num_helpful=0, date='2016-12-07')]"
      ]
     },
     "execution_count": 18,
     "metadata": {},
     "output_type": "execute_result"
    }
   ],
   "source": [
    "# first ten reviews in review 1\n",
    "get_reviews('review1.json', 'review1.csv')[:10]"
   ]
  },
  {
   "cell_type": "code",
   "execution_count": 19,
   "metadata": {},
   "outputs": [
    {
     "data": {
      "text/plain": [
       "[Review(id=25136, username='Angrydagg', asin='B018Y229OU', title='Nice features for the price.', text='For the price this tables does everything I need. so far.', rating=4, do_recommend=True, num_helpful=0, date='2015-12-30'),\n",
       " Review(id=84039, username='Appman2015', asin='B018Y229OU', title='Great for xmas', text='So far I have bought three of these of tablets and they love it', rating=4, do_recommend=True, num_helpful=1, date='2015-12-30'),\n",
       " Review(id=22239, username='SuzieQ', asin='B018Y229OU', title='great for pre teens', text='i am glad i got them for my grand children they r enjoying them', rating=5, do_recommend=True, num_helpful=0, date='2015-12-31'),\n",
       " Review(id=70842, username='Gracie', asin='B018Y229OU', title='Great kindle', text='Purchase was good. Very easy to set up and use. Clear screen. Easy to charge. Would like more storage.', rating=5, do_recommend=True, num_helpful=0, date='2015-12-31'),\n",
       " Review(id=60542, username='Jeremyjeepster', asin='B018Y229OU', title='Good entry level tablet reader.', text='His is a very economical entry level tablet. Great for kids or for first time users.', rating=4, do_recommend=True, num_helpful=0, date='2015-12-31'),\n",
       " Review(id=9042, username='kinglowe78', asin='B018Y229OU', title='Good Deal', text='Real good deal. Nice present for those who want a tablet', rating=4, do_recommend=True, num_helpful=1, date='2016-01-01'),\n",
       " Review(id=98845, username='jamal', asin='B018Y229OU', title='good basic', text='Good gift for basic Internet use browsing emails .', rating=3, do_recommend=True, num_helpful=1, date='2016-01-01'),\n",
       " Review(id=37045, username='CaOk', asin='B018Y229OU', title='decent budget tablet that does what it suppose to', text='Nothing fancy. A good budget tablet that does what It suppose to do', rating=4, do_recommend=True, num_helpful=0, date='2016-01-01'),\n",
       " Review(id=26745, username='Tablet2', asin='B018Y229OU', title='Affordable tablet', text='Bought tablet for my five year old nephew. Is affordable and has good specs. Easy to use. Camera and video are good. My nephew has no problem using it', rating=4, do_recommend=True, num_helpful=0, date='2016-01-01'),\n",
       " Review(id=3248, username='Tims54913', asin='B018Y229OU', title='Great tablet', text='If your connected to amazon the tablet is great to use.', rating=5, do_recommend=True, num_helpful=0, date='2016-01-02')]"
      ]
     },
     "execution_count": 19,
     "metadata": {},
     "output_type": "execute_result"
    }
   ],
   "source": [
    "# last ten reviews in review 2\n",
    "get_reviews('review2.json', 'review2.csv')[-10:]"
   ]
  },
  {
   "cell_type": "code",
   "execution_count": 20,
   "metadata": {},
   "outputs": [
    {
     "data": {
      "text/plain": [
       "Review(id=84713, username='mmolly1', asin='B01AHB9CN2', title='Great product', text='This product is very user friendly and it is very lightweight', rating=5, do_recommend=True, num_helpful=0, date='2017-01-08')"
      ]
     },
     "execution_count": 20,
     "metadata": {},
     "output_type": "execute_result"
    }
   ],
   "source": [
    "# data from review 84713\n",
    "sample_reviews = get_reviews('review2.json', 'review2.csv')\n",
    "for i in sample_reviews:\n",
    "    if i.id == 84713:\n",
    "        review_84713 = i\n",
    "review_84713"
   ]
  },
  {
   "cell_type": "code",
   "execution_count": 21,
   "metadata": {},
   "outputs": [
    {
     "data": {
      "text/plain": [
       "Review(id=42931, username='tbistone', asin='B01BH83OOM', title='Amazing', text='I literally use this thing every single day. Love it.', rating=5, do_recommend=True, num_helpful=0, date='2016-12-20')"
      ]
     },
     "execution_count": 21,
     "metadata": {},
     "output_type": "execute_result"
    }
   ],
   "source": [
    "# data from review 42931\n",
    "sample_reviews = get_reviews('review1.json', 'review1.csv')\n",
    "for i in sample_reviews:\n",
    "    if i.id == 42931:\n",
    "        review_42931 = i\n",
    "review_42931"
   ]
  },
  {
   "cell_type": "code",
   "execution_count": 22,
   "metadata": {},
   "outputs": [
    {
     "data": {
      "text/plain": [
       "[Review(id=74, username='Wayne', asin='B01AHB9CN2', title='Kindle upgrade', text='Gave this to my wife for Christmas. Upgraded from the original Kindle. She thoroughly enjoys it.', rating=5, do_recommend=True, num_helpful=0, date='2016-12-31'),\n",
       " Review(id=82, username='KKLORRAINE', asin='B01AHB9CN2', title='Good', text='Great for reading and Netflix. Fits nice in purse. Good price.', rating=4, do_recommend=True, num_helpful=0, date='2017-04-07'),\n",
       " Review(id=110, username='nell', asin='B00IOY8XWQ', title='I love it', text='Prefect for all reading conditions and environments. I take it everywhere.', rating=5, do_recommend=True, num_helpful=0, date='2016-07-09'),\n",
       " Review(id=122, username='apple21man', asin='B01BH83OOM', title='A great assistant', text='It works well it takes time for it to know your vocabulary', rating=5, do_recommend=True, num_helpful=0, date='2017-01-23'),\n",
       " Review(id=247, username='rockydon1', asin='B018Y229OU', title='great', text='The Kindle fire is a great product. Will do so many things. Would recommend to anyone.', rating=5, do_recommend=True, num_helpful=0, date='2015-12-29'),\n",
       " Review(id=251, username='Cheechu821', asin='B018Y229OU', title='Great product for its price', text='I purchased the tablet as a screen for my drink and it worked just fine', rating=3, do_recommend=True, num_helpful=0, date='2016-02-19'),\n",
       " Review(id=263, username='aram58', asin='B018Y229OU', title='love the tablet', text='I would recommend this tablet to anyone that is interested in one. It is just as good as a Samsung one and half the price.', rating=5, do_recommend=True, num_helpful=0, date='2016-07-08'),\n",
       " Review(id=271, username='NMGPRO', asin='B018Y229OU', title='Good little tablet', text='I purchased this to have a smaller footprint tablet. Could use more popular apps but still great for keeping the library at the tip of the fingers and a camera to boot.', rating=5, do_recommend=True, num_helpful=0, date='2016-01-21'),\n",
       " Review(id=275, username='MikeGA', asin='B018Y229OU', title='Great for Amazon', text='This product is a great entry level tablet. It is limited in both memory and function.', rating=5, do_recommend=True, num_helpful=0, date='2016-01-05'),\n",
       " Review(id=327, username='ritter6281', asin='B018Y229OU', title='Awesome tablet.', text='This tablet is better than any other tablet of the same cost range. My son saved up to buy his own tablet and had similar priced tablets break or have software issues. This tablet has a nice quality screen and it is nice to be able to not be forced to do everything through Amazon despite it being an Amazon tablet. The option of a Best Buy replacement plan is handy when getting the tablet for kids.', rating=5, do_recommend=True, num_helpful=0, date='2016-04-09')]"
      ]
     },
     "execution_count": 22,
     "metadata": {},
     "output_type": "execute_result"
    }
   ],
   "source": [
    "# first ten reviews in entire dataset in order of id number\n",
    "def review_id(review): # function used to sort by reivew id\n",
    "    return review.id\n",
    "\n",
    "filenames = [] # initialize filenames list\n",
    "for file in files_in_data: # loop through files in data\n",
    "    if os.path.splitext(file)[1][1:] == 'csv': # find csv files\n",
    "        filenames.append(os.path.splitext(file)[0]) # names of csv files\n",
    "sorted(filenames, reverse = True) # sorted in reverse order\n",
    "\n",
    "total_reviews = [] # intialize complete review data\n",
    "for file in filenames: # loop through file names\n",
    "    reviews = get_reviews(file+'.json', file+'.csv') # get reviews from each review file\n",
    "    try:\n",
    "        for review in reviews:\n",
    "            total_reviews.append(review)\n",
    "    except:\n",
    "        continue\n",
    "        \n",
    "first_ten = sorted(total_reviews, key = review_id)[:10]\n",
    "first_ten"
   ]
  },
  {
   "cell_type": "code",
   "execution_count": 23,
   "metadata": {},
   "outputs": [
    {
     "data": {
      "text/plain": [
       "165"
      ]
     },
     "execution_count": 23,
     "metadata": {},
     "output_type": "execute_result"
    }
   ],
   "source": [
    "# number of reviews for Amazon Tap Smart Assistant Alexa enabled (black) Brand New\n",
    "for product in products:\n",
    "    if products[product] == \"Amazon Tap Smart Assistant Alexa enabled (black) Brand New\":\n",
    "        asin = product\n",
    "count = 0\n",
    "for review in total_reviews:\n",
    "    if review.asin == asin:\n",
    "        count += 1\n",
    "count"
   ]
  },
  {
   "cell_type": "code",
   "execution_count": 24,
   "metadata": {},
   "outputs": [
    {
     "data": {
      "text/plain": [
       "12"
      ]
     },
     "execution_count": 24,
     "metadata": {},
     "output_type": "execute_result"
    }
   ],
   "source": [
    "# number of reviews for All-New Fire HD 8 Tablet, 8 HD Display, Wi-Fi, 32 GB - Includes Special Offers, Black\n",
    "for product in products:\n",
    "    if products[product] == \"All-New Fire HD 8 Tablet, 8 HD Display, Wi-Fi, 32 GB - Includes Special Offers, Black\":\n",
    "        asin = product\n",
    "count = 0\n",
    "for review in total_reviews:\n",
    "    if review.asin == asin:\n",
    "        count += 1\n",
    "count"
   ]
  },
  {
   "cell_type": "code",
   "execution_count": 25,
   "metadata": {},
   "outputs": [
    {
     "data": {
      "text/plain": [
       "'Fire Tablet, 7 Display, Wi-Fi, 8 GB - Includes Special Offers, Magenta'"
      ]
     },
     "execution_count": 25,
     "metadata": {},
     "output_type": "execute_result"
    }
   ],
   "source": [
    "# finding the product with the most reviews\n",
    "review_counts = {}\n",
    "for product in products:\n",
    "    review_counts[product] = 0\n",
    "for review in total_reviews:\n",
    "    for asin in review_counts:\n",
    "        if asin == review.asin:\n",
    "            review_counts[asin] += 1\n",
    "counts = []\n",
    "for asin in review_counts:\n",
    "    counts.append(review_counts[asin])\n",
    "    highest = max(counts)\n",
    "for asin in review_counts:\n",
    "    if review_counts[asin] == highest:\n",
    "        asin = asin\n",
    "for product in products:\n",
    "    if product == asin:\n",
    "        highest_prod = products[product]\n",
    "highest_prod"
   ]
  },
  {
   "cell_type": "code",
   "execution_count": 26,
   "metadata": {},
   "outputs": [
    {
     "data": {
      "text/plain": [
       "Review(id=85969, username='Beninkc', asin='B018Y229OU', title='5 star device crippled by amazon', text='This device would be the best possible tablet for the money if it had Google Play. However Amazon chose to block access to it. This took their well made tablet with a beautiful screen and great performance from an amazing value to a waste of money. This is my last amazon branded product.If you use a lot of apps or want specific apps shop for another device.', rating=1, do_recommend=False, num_helpful=20, date='2016-02-14')"
      ]
     },
     "execution_count": 26,
     "metadata": {},
     "output_type": "execute_result"
    }
   ],
   "source": [
    "# finding the review(s) with the most number \n",
    "# of people that found it helpful for the most reviewed product\n",
    "def most_helpful(review):\n",
    "    return review.num_helpful\n",
    "\n",
    "product_reviews = []\n",
    "for review in total_reviews:\n",
    "    if review.asin == asin:\n",
    "        product_reviews.append(review)\n",
    "sorted(product_reviews, key=most_helpful, reverse = True)[0]\n"
   ]
  },
  {
   "cell_type": "code",
   "execution_count": 27,
   "metadata": {},
   "outputs": [],
   "source": [
    "# creates a scatter plot of a pandas dataframe\n",
    "def scatter(x, y, xlabel=\"please label me!\", ylabel=\"please label me!\"):\n",
    "    df = pd.DataFrame({\"x\":x, \"y\":y})\n",
    "    ax = df.plot.scatter(x=\"x\", y=\"y\", color=\"black\", fontsize=16, xlim=0, ylim=0)\n",
    "    ax.set_xlabel(xlabel, fontsize=16)\n",
    "    ax.set_ylabel(ylabel, fontsize=16)\n",
    "    ax.get_xaxis().get_major_formatter().set_scientific(False)\n",
    "    ax.get_yaxis().get_major_formatter().set_scientific(False)"
   ]
  },
  {
   "cell_type": "code",
   "execution_count": 28,
   "metadata": {},
   "outputs": [],
   "source": [
    "filenames = []\n",
    "for file in files_in_data:\n",
    "    if os.path.splitext(file)[1][1:] == 'csv':\n",
    "        filenames.append(os.path.splitext(file)[0])\n",
    "sorted(filenames, reverse = True)\n",
    "\n",
    "reviews = []\n",
    "for file in filenames:\n",
    "    if file == 'sample_reviews':\n",
    "        continue\n",
    "    r = get_reviews(file+'.json', file+'.csv')\n",
    "    try:\n",
    "        for review in r:\n",
    "            reviews.append(review)\n",
    "    except:\n",
    "        continue\n"
   ]
  },
  {
   "cell_type": "code",
   "execution_count": 29,
   "metadata": {},
   "outputs": [
    {
     "data": {
      "text/plain": [
       "3798"
      ]
     },
     "execution_count": 29,
     "metadata": {},
     "output_type": "execute_result"
    }
   ],
   "source": [
    "# number of unique usernames in review files\n",
    "total = 0\n",
    "review_usernames = []\n",
    "for review in total_reviews:\n",
    "    if review.username not in review_usernames:\n",
    "        review_usernames.append(review.username)\n",
    "len(review_usernames)"
   ]
  },
  {
   "cell_type": "code",
   "execution_count": 30,
   "metadata": {},
   "outputs": [
    {
     "data": {
      "text/plain": [
       "{'Dave': 5,\n",
       " 'Missy': 4,\n",
       " '1234': 4,\n",
       " 'Steve': 4,\n",
       " 'Chris': 4,\n",
       " 'Angie': 4,\n",
       " 'Mike': 4,\n",
       " 'Susan': 4,\n",
       " 'Frank': 3,\n",
       " 'Manny': 3,\n",
       " 'Michael': 3,\n",
       " 'Susie': 3,\n",
       " 'Bill': 3,\n",
       " 'Charles': 3,\n",
       " 'Dani': 3,\n",
       " 'mike': 3,\n",
       " 'Rick': 3,\n",
       " 'Kindle': 3,\n",
       " 'Mimi': 3,\n",
       " 'Jojo': 3,\n",
       " 'Charlie': 3,\n",
       " 'Anonymous': 3,\n",
       " 'kcladyz': 3,\n",
       " 'David': 3,\n",
       " 'Josh': 3,\n",
       " 'Pete': 3,\n",
       " 'John': 3,\n",
       " 'Richard': 3,\n",
       " 'Bubba': 3,\n",
       " 'Grandma': 3}"
      ]
     },
     "execution_count": 30,
     "metadata": {},
     "output_type": "execute_result"
    }
   ],
   "source": [
    "# 30 most prolific users in review files\n",
    "# quantified by the number of reviews by that user\n",
    "def get_key(item): # used to sort by number of reviews\n",
    "    return item[1]\n",
    "prolific_users = []\n",
    "values = []\n",
    "users = {}\n",
    "most_prolific = {}\n",
    "for user in review_usernames:\n",
    "    users[user] = []\n",
    "for user in users:\n",
    "    for review in reviews:\n",
    "        if review.username == user:\n",
    "            users[user].append(review)\n",
    "for user in users:\n",
    "    prolific_users.append((user, len(users[user])))\n",
    "pro_sorted = sorted(prolific_users, key = get_key, reverse = True)[:30]\n",
    "for user in pro_sorted:\n",
    "    most_prolific[user[0]] = user[1]\n",
    "most_prolific"
   ]
  },
  {
   "cell_type": "code",
   "execution_count": 31,
   "metadata": {},
   "outputs": [
    {
     "data": {
      "text/plain": [
       "{'Beninkc': 20,\n",
       " 'Roberto002007': 7,\n",
       " 'Dick': 5,\n",
       " 'CarlosEA': 10,\n",
       " 'EricO': 7,\n",
       " 'Junior': 7,\n",
       " 'TerrieT': 5,\n",
       " 'LadyEsco702': 8,\n",
       " 'safissad': 8,\n",
       " 'Quasimodo': 5,\n",
       " 'iMax': 5,\n",
       " 'mysixpack': 6,\n",
       " 'Deejay': 8,\n",
       " 'stephfasc22': 5,\n",
       " 'AshT': 5,\n",
       " 'fenton': 6,\n",
       " 'Rodge': 6,\n",
       " 'Ellen': 10,\n",
       " 'Karch': 5,\n",
       " 'FrankW': 5,\n",
       " 'Kime': 5,\n",
       " 'Mark': 5,\n",
       " '1Briansapp': 5,\n",
       " 'trouble': 5,\n",
       " 'Stuartc': 8,\n",
       " 'Earthdog': 27}"
      ]
     },
     "execution_count": 31,
     "metadata": {},
     "output_type": "execute_result"
    }
   ],
   "source": [
    "# users whose reviews have been found helpful at least \n",
    "most_helpful = {}\n",
    "for review in reviews:\n",
    "    if review.num_helpful >= 5:\n",
    "        if review.username not in most_helpful:\n",
    "            most_helpful[review.username] = 0\n",
    "        most_helpful[review.username] += review.num_helpful\n",
    "most_helpful"
   ]
  },
  {
   "cell_type": "code",
   "execution_count": 32,
   "metadata": {},
   "outputs": [],
   "source": [
    "# returns average rating of a product\n",
    "def avg_rating(asin):\n",
    "    rating = 0\n",
    "    count = 0\n",
    "    r = []\n",
    "    for review in reviews:\n",
    "        if review.asin == str(asin):\n",
    "            if review not in r:\n",
    "                r.append(review)\n",
    "    for review in r:\n",
    "        rating += review.rating\n",
    "        count = len(r)\n",
    "    avg_rating = rating/count\n",
    "    return avg_rating"
   ]
  },
  {
   "cell_type": "code",
   "execution_count": 33,
   "metadata": {},
   "outputs": [
    {
     "data": {
      "text/plain": [
       "{'Amazon 9W PowerFast Official OEM USB Charger and Power Adapter for Fire Tablets and Kindle eReaders': 4.7272727272727275,\n",
       " 'Amazon Tap Smart Assistant Alexa enabled (black) Brand New': 4.6909090909090905,\n",
       " 'All-New Kindle E-reader - Black, 6\" Glare-Free Touchscreen Display, Wi-Fi - Includes Special Offers': 4.590163934426229,\n",
       " 'Amazon Echo (2nd Generation) Smart Assistant Oak Finish Priority Shipping': 5.0,\n",
       " 'Kindle Voyage E-reader, 6 High-Resolution Display (300 ppi) with Adaptive Built-in Light, PagePress Sensors, Wi-Fi - Includes Special Offers': 4.666666666666667,\n",
       " 'All-new Echo (2nd Generation) with improved sound, powered by Dolby, and a new design Walnut Finish': 5.0,\n",
       " 'Fire Kids Edition Tablet, 7 Display, Wi-Fi, 16 GB, Pink Kid-Proof Case': 4.603448275862069,\n",
       " 'All-New Fire HD 8 Tablet, 8 HD Display, Wi-Fi, 32 GB - Includes Special Offers, Black': 4.583333333333333,\n",
       " 'All-New Fire HD 8 Tablet, 8 HD Display, Wi-Fi, 32 GB - Includes Special Offers, Magenta': 4.574468085106383,\n",
       " 'All-New Fire HD 8 Tablet, 8 HD Display, Wi-Fi, 16 GB - Includes Special Offers, Magenta': 4.6,\n",
       " 'Kindle Oasis E-reader with Leather Charging Cover - Merlot, 6 High-Resolution Display (300 ppi), Wi-Fi - Includes Special Offers': 4.866666666666666,\n",
       " 'Fire HD 8 Tablet with Alexa, 8 HD Display, 32 GB, Tangerine - with Special Offers': 3.8333333333333335,\n",
       " 'Fire Tablet, 7 Display, Wi-Fi, 8 GB - Includes Special Offers, Magenta': 4.490408673894913}"
      ]
     },
     "execution_count": 33,
     "metadata": {},
     "output_type": "execute_result"
    }
   ],
   "source": [
    "# find average rating of each product\n",
    "product_averages = {}\n",
    "for product in products:\n",
    "    product_averages[products[product]] = avg_rating(product)\n",
    "product_averages"
   ]
  },
  {
   "cell_type": "code",
   "execution_count": 34,
   "metadata": {},
   "outputs": [
    {
     "data": {
      "text/plain": [
       "{'B00QFQRELG': 4.7272727272727275,\n",
       " 'B01BH83OOM': 4.6909090909090905,\n",
       " 'B00ZV9PXP2': 4.590163934426229,\n",
       " 'B0751RGYJV': 5.0,\n",
       " 'B00IOY8XWQ': 4.666666666666667,\n",
       " 'B0752151W6': 5.0,\n",
       " 'B018Y226XO': 4.603448275862069,\n",
       " 'B01ACEKAJY': 4.583333333333333,\n",
       " 'B01AHB9CYG': 4.574468085106383,\n",
       " 'B01AHB9CN2': 4.6,\n",
       " 'B00VINDBJK': 4.866666666666666,\n",
       " 'B01AHB9C1E': 3.8333333333333335,\n",
       " 'B018Y229OU': 4.490408673894913}"
      ]
     },
     "execution_count": 34,
     "metadata": {},
     "output_type": "execute_result"
    }
   ],
   "source": [
    "# mapping asin to average rating\n",
    "asin_averages = {}\n",
    "for product in products:\n",
    "    asin_averages[product] = avg_rating(product)\n",
    "asin_averages"
   ]
  },
  {
   "cell_type": "code",
   "execution_count": 35,
   "metadata": {},
   "outputs": [],
   "source": [
    "# returns the number of reviews for a product\n",
    "def get_num_reviews(asin):\n",
    "    rev = []\n",
    "    for review in reviews:\n",
    "        if review.asin == str(asin):\n",
    "            if review not in rev:\n",
    "                rev.append(review)\n",
    "    for review in rev:\n",
    "        number = len(rev)\n",
    "    \n",
    "    return number"
   ]
  },
  {
   "cell_type": "code",
   "execution_count": 36,
   "metadata": {},
   "outputs": [
    {
     "data": {
      "image/png": "[encoded data removed]",
      "text/plain": [
       "<Figure size 432x288 with 1 Axes>"
      ]
     },
     "metadata": {
      "needs_background": "light"
     },
     "output_type": "display_data"
    }
   ],
   "source": [
    "# relation between average rating and number of reviews\n",
    "averages = []\n",
    "for asin in asin_averages:\n",
    "    averages.append(asin_averages[asin])\n",
    "counts = []\n",
    "for asin in asin_averages:\n",
    "    counts.append(get_num_reviews(asin))\n",
    "counts\n",
    "scatter(counts, averages, xlabel = 'Number of reviews', ylabel = 'Average rating')"
   ]
  },
  {
   "cell_type": "code",
   "execution_count": 37,
   "metadata": {},
   "outputs": [
    {
     "data": {
      "image/png": "[encoded data removed]",
      "text/plain": [
       "<Figure size 432x288 with 1 Axes>"
      ]
     },
     "metadata": {
      "needs_background": "light"
     },
     "output_type": "display_data"
    }
   ],
   "source": [
    "# removing outliers from products\n",
    "adjusted_averages = []\n",
    "adjusted_counts = []\n",
    "for asin in asin_averages:\n",
    "    if get_num_reviews(asin) < 800:\n",
    "        adjusted_averages.append(asin_averages[asin])\n",
    "        adjusted_counts.append(get_num_reviews(asin))\n",
    "scatter(adjusted_counts, adjusted_averages, xlabel = 'Number of reviews', ylabel = 'Average rating')"
   ]
  },
  {
   "cell_type": "code",
   "execution_count": 38,
   "metadata": {},
   "outputs": [],
   "source": [
    "review_values = {}\n",
    "for review in reviews: # creating dict to map each rating to reviews of that rating\n",
    "    if review.rating not in review_values:\n",
    "        review_values[review.rating] = []\n",
    "    review_values[review.rating].append(review)\n",
    "review_values\n",
    "\n",
    "def average_text(values): # returns the average length of review text for reviews in each rating\n",
    "    \n",
    "    averages = {}\n",
    "    for rating in values:\n",
    "        count = 0\n",
    "        total = 0\n",
    "        for review in values[rating]:\n",
    "            if review.rating == rating:\n",
    "                total += len(review.text)\n",
    "                count += 1\n",
    "                avg = total/count\n",
    "            averages[rating] = avg\n",
    "    return averages"
   ]
  },
  {
   "cell_type": "code",
   "execution_count": 39,
   "metadata": {},
   "outputs": [],
   "source": [
    "# creating list of ratings and average text for scatter plot\n",
    "rating_avgtext = average_text(review_values)\n",
    "ratings = []\n",
    "avg_text = []\n",
    "for rating in rating_avgtext:\n",
    "    ratings.append(rating)\n",
    "    avg_text.append(rating_avgtext[rating])\n"
   ]
  },
  {
   "cell_type": "code",
   "execution_count": 40,
   "metadata": {},
   "outputs": [
    {
     "data": {
      "image/png": "[encoded data removed]",
      "text/plain": [
       "<Figure size 432x288 with 1 Axes>"
      ]
     },
     "metadata": {
      "needs_background": "light"
     },
     "output_type": "display_data"
    }
   ],
   "source": [
    "# relationship between average rating and length of review text\n",
    "scatter(ratings, avg_text, xlabel = 'Rating', ylabel='Average text length')"
   ]
  },
  {
   "cell_type": "code",
   "execution_count": 41,
   "metadata": {},
   "outputs": [],
   "source": [
    "# finding the percentage of reviews that were found helpful\n",
    "def percent_help(values):\n",
    "    \n",
    "    percents = {}\n",
    "    for rating in values:\n",
    "        count = 0\n",
    "        total = 0\n",
    "        for review in values[rating]:\n",
    "            if review.rating == rating:\n",
    "                if review.num_helpful >= 1:\n",
    "                    total += 1\n",
    "                count += 1\n",
    "                percent = total/count\n",
    "            percents[rating] = percent\n",
    "    return percents"
   ]
  },
  {
   "cell_type": "code",
   "execution_count": 42,
   "metadata": {},
   "outputs": [
    {
     "data": {
      "image/png": "[encoded data removed]",
      "text/plain": [
       "<Figure size 432x288 with 1 Axes>"
      ]
     },
     "metadata": {
      "needs_background": "light"
     },
     "output_type": "display_data"
    }
   ],
   "source": [
    "# relationship between rating and likelihood of review being found helpful\n",
    "rating_prchelp = percent_help(review_values)\n",
    "prc = []\n",
    "for rating in rating_prchelp:\n",
    "    prc.append(rating_prchelp[rating])\n",
    "scatter(ratings, prc, xlabel = 'Rating', ylabel='Percentage of helpful reviews')"
   ]
  },
  {
   "cell_type": "code",
   "execution_count": 43,
   "metadata": {},
   "outputs": [
    {
     "data": {
      "text/plain": [
       "4.607549120992761"
      ]
     },
     "execution_count": 43,
     "metadata": {},
     "output_type": "execute_result"
    }
   ],
   "source": [
    "# average rating of all reviews that recommend their products\n",
    "total = 0\n",
    "count = 0\n",
    "for review in reviews:\n",
    "    if review.do_recommend == True:\n",
    "        total += review.rating\n",
    "        count += 1\n",
    "avg = total/count\n",
    "avg"
   ]
  },
  {
   "cell_type": "code",
   "execution_count": 44,
   "metadata": {},
   "outputs": [],
   "source": [
    "# finding the percentage that recommended the product by rating\n",
    "def recommend(values):\n",
    "    \n",
    "    do_recommend = {}\n",
    "    for rating in values:\n",
    "        count = 0\n",
    "        total = 0\n",
    "        for review in values[rating]:\n",
    "            if review.rating == rating:\n",
    "                if review.do_recommend == True:\n",
    "                    total += 1\n",
    "                count += 1\n",
    "                percent = total/count\n",
    "            do_recommend[rating] = percent\n",
    "    return do_recommend"
   ]
  },
  {
   "cell_type": "code",
   "execution_count": 45,
   "metadata": {},
   "outputs": [
    {
     "data": {
      "image/png": "[encoded data removed]",
      "text/plain": [
       "<Figure size 432x288 with 1 Axes>"
      ]
     },
     "metadata": {
      "needs_background": "light"
     },
     "output_type": "display_data"
    }
   ],
   "source": [
    "# relationship between rating and likelihood of the product being recommended\n",
    "rating_recommend = recommend(review_values)\n",
    "rec = []\n",
    "for rating in rating_recommend:\n",
    "    rec.append(rating_recommend[rating])\n",
    "scatter(ratings, rec, xlabel = 'Rating', ylabel='Probability of recommendation')"
   ]
  },
  {
   "cell_type": "code",
   "execution_count": 46,
   "metadata": {},
   "outputs": [
    {
     "data": {
      "text/plain": [
       "{'i': 1317,\n",
       " 'for': 1800,\n",
       " 'my': 1146,\n",
       " 'to': 1442,\n",
       " 'it': 1286,\n",
       " 'this': 1016,\n",
       " 'the': 1740,\n",
       " 'a': 1134,\n",
       " 'and': 1818}"
      ]
     },
     "execution_count": 46,
     "metadata": {},
     "output_type": "execute_result"
    }
   ],
   "source": [
    "# most common words in reviews with a rating of 5 that occur more that 1000 times\n",
    "words_in_rating = {}\n",
    "for rating in review_values:\n",
    "    if rating == 5: # finding reviews with 5 rating\n",
    "        for review in review_values[rating]: # looping through reviews of rating 5\n",
    "            txt = review.text\n",
    "            words = txt.lower().split(\" \") # splitting words into lists\n",
    "            for word in words: # loop through words\n",
    "                if word not in words_in_rating: # if word hasn't been seen, make it a key with value 0\n",
    "                    words_in_rating[word] = 0\n",
    "                words_in_rating[word] += 1 # add one for each repeated word seen\n",
    "over_thou = {} # creating dict only with words appearing more than 1000 times\n",
    "for word in words_in_rating:\n",
    "    if words_in_rating[word] > 1000:\n",
    "        over_thou[word] = words_in_rating[word]\n",
    "over_thou"
   ]
  },
  {
   "cell_type": "code",
   "execution_count": 47,
   "metadata": {},
   "outputs": [
    {
     "data": {
      "text/plain": [
       "{'great': 1093,\n",
       " 'tablet': 681,\n",
       " 'fire': 104,\n",
       " 'for': 617,\n",
       " 'the': 231,\n",
       " 'my': 138,\n",
       " 'kindle': 142,\n",
       " 'to': 106,\n",
       " 'good': 212,\n",
       " 'price': 149,\n",
       " 'gift': 105,\n",
       " 'it': 137,\n",
       " 'a': 143,\n",
       " 'love': 158,\n",
       " 'kids': 132,\n",
       " 'awesome': 108,\n",
       " 'product': 179}"
      ]
     },
     "execution_count": 47,
     "metadata": {},
     "output_type": "execute_result"
    }
   ],
   "source": [
    "# words that appear in the title of 5 ratings\n",
    "words_in_title = {}\n",
    "for rating in review_values:\n",
    "    if rating == 5:\n",
    "        for review in review_values[rating]:\n",
    "            title = review.title\n",
    "            words = title.lower().split(\" \")\n",
    "            for word in words: \n",
    "                if word not in words_in_title:\n",
    "                    words_in_title[word] = 0\n",
    "                words_in_title[word] += 1\n",
    "over_hun = {} # only looking at words that appear more than 100 times\n",
    "for word in words_in_title:\n",
    "    if words_in_title[word] >= 100:\n",
    "        over_hun[word] = words_in_title[word]\n",
    "over_hun"
   ]
  },
  {
   "cell_type": "code",
   "execution_count": 48,
   "metadata": {},
   "outputs": [
    {
     "data": {
      "text/plain": [
       "{'not': 8,\n",
       " 'very': 3,\n",
       " 'disappointed': 2,\n",
       " 'poor': 2,\n",
       " 'does': 2,\n",
       " 'amazon': 5,\n",
       " 'a': 5,\n",
       " 'great': 2,\n",
       " '5': 2,\n",
       " 'work': 2,\n",
       " 'to': 2,\n",
       " 'use': 2,\n",
       " 'and': 2,\n",
       " 'kindle': 2,\n",
       " 'tablet': 4,\n",
       " 'for': 2,\n",
       " 'good': 2,\n",
       " 'really': 2,\n",
       " 'with': 2}"
      ]
     },
     "execution_count": 48,
     "metadata": {},
     "output_type": "execute_result"
    }
   ],
   "source": [
    "# words that appear in the title of 1 ratings\n",
    "words_in_title_one = {}\n",
    "for rating in review_values:\n",
    "    if rating == 1:\n",
    "        for review in review_values[rating]:\n",
    "            title = review.title\n",
    "            words = title.lower().split(\" \")\n",
    "            for word in words: \n",
    "                if word not in words_in_title_one:\n",
    "                    words_in_title_one[word] = 0\n",
    "                words_in_title_one[word] += 1\n",
    "over_one = {} #occur more than once\n",
    "for word in words_in_title_one:\n",
    "    if words_in_title_one[word] > 1:\n",
    "        over_one[word] = words_in_title_one[word]\n",
    "over_one"
   ]
  },
  {
   "cell_type": "code",
   "execution_count": 49,
   "metadata": {},
   "outputs": [
    {
     "data": {
      "text/plain": [
       "{'tablet': 51,\n",
       " 'the': 18,\n",
       " 'great': 37,\n",
       " 'good': 42,\n",
       " 'for': 60,\n",
       " 'price': 18,\n",
       " 'ok': 18,\n",
       " 'a': 17,\n",
       " 'not': 13}"
      ]
     },
     "execution_count": 49,
     "metadata": {},
     "output_type": "execute_result"
    }
   ],
   "source": [
    "# words that appear in the title of 3 ratings\n",
    "words_in_title_three = {}\n",
    "for rating in review_values:\n",
    "    if rating == 3:\n",
    "        for review in review_values[rating]:\n",
    "            title = review.title\n",
    "            words = title.lower().split(\" \")\n",
    "            for word in words: \n",
    "                if word not in words_in_title_three:\n",
    "                    words_in_title_three[word] = 0\n",
    "                words_in_title_three[word] += 1\n",
    "over_three = {} # occur more than 10 times\n",
    "for word in words_in_title_three:\n",
    "    if words_in_title_three[word] > 10:\n",
    "        over_three[word] = words_in_title_three[word]\n",
    "over_three"
   ]
  },
  {
   "cell_type": "code",
   "execution_count": 50,
   "metadata": {},
   "outputs": [],
   "source": [
    "#path to the helpful directory\n",
    "helpful_path = os.path.join('broken_file', 'rating5','helpful')"
   ]
  },
  {
   "cell_type": "code",
   "execution_count": 51,
   "metadata": {},
   "outputs": [],
   "source": [
    "# takes a path and looks recursively at anything contained in that directory\n",
    "def explore_directory(path):\n",
    "    paths = [] # list of paths in path\n",
    "    if os.path.isfile(path) == True:\n",
    "        paths.append(path) # if it's a file add to paths\n",
    "    else: # otherwise, explore that directory\n",
    "        for i in os.listdir(path):\n",
    "            if i[0] == '.': # skip any files beginning with '.'\n",
    "                continue\n",
    "            paths += explore_directory(os.path.join(path, i)) # begin sequence again with new path\n",
    "    return paths"
   ]
  },
  {
   "cell_type": "code",
   "execution_count": 52,
   "metadata": {},
   "outputs": [
    {
     "data": {
      "text/plain": [
       "['broken_file/rating5/helpful/helpful.json']"
      ]
     },
     "execution_count": 52,
     "metadata": {},
     "output_type": "execute_result"
    }
   ],
   "source": [
    "# listing paths in the helpful directory\n",
    "explore_directory(helpful_path)"
   ]
  },
  {
   "cell_type": "code",
   "execution_count": 53,
   "metadata": {},
   "outputs": [
    {
     "data": {
      "text/plain": [
       "['broken_file/rating4/very_helpful/very_helpful.json',\n",
       " 'broken_file/rating4/others/short/short.json',\n",
       " 'broken_file/rating4/others/others/others.json',\n",
       " 'broken_file/rating4/not_helpful.json']"
      ]
     },
     "execution_count": 53,
     "metadata": {},
     "output_type": "execute_result"
    }
   ],
   "source": [
    "# listing paths in the rating4 directory of broken file\n",
    "rating4_path = os.path.join('broken_file', 'rating4')\n",
    "sorted(explore_directory(rating4_path), reverse = True)"
   ]
  },
  {
   "cell_type": "code",
   "execution_count": 54,
   "metadata": {},
   "outputs": [
    {
     "data": {
      "text/plain": [
       "['broken_file/rating5/others.json',\n",
       " 'broken_file/rating5/helpful/helpful.json',\n",
       " 'broken_file/rating4/very_helpful/very_helpful.json',\n",
       " 'broken_file/rating4/others/short/short.json',\n",
       " 'broken_file/rating4/others/others/others.json',\n",
       " 'broken_file/rating4/not_helpful.json',\n",
       " 'broken_file/rating3/others/others.json',\n",
       " 'broken_file/rating3/long/long.json',\n",
       " 'broken_file/others.json']"
      ]
     },
     "execution_count": 54,
     "metadata": {},
     "output_type": "execute_result"
    }
   ],
   "source": [
    "# paths of all files in broken file\n",
    "broken_files = sorted(explore_directory(os.path.join('broken_file')), reverse = True)\n",
    "broken_files"
   ]
  },
  {
   "cell_type": "code",
   "execution_count": 55,
   "metadata": {},
   "outputs": [
    {
     "data": {
      "text/plain": [
       "1"
      ]
     },
     "execution_count": 55,
     "metadata": {},
     "output_type": "execute_result"
    }
   ],
   "source": [
    "# combine files in broken file and find number of unique products\n",
    "products_in_broken = []\n",
    "for file in broken_files:\n",
    "    broken_reviews = read_json_path(file)\n",
    "    for review in broken_reviews:\n",
    "        if broken_reviews[review][1] not in products_in_broken:\n",
    "            products_in_broken.append(broken_reviews[review][1])\n",
    "len(products_in_broken)"
   ]
  },
  {
   "cell_type": "code",
   "execution_count": 56,
   "metadata": {},
   "outputs": [],
   "source": [
    "# writing json file\n",
    "def write_json(data, filename):\n",
    "    with open(filename, 'w') as file:\n",
    "        json.dump(data, file)"
   ]
  },
  {
   "cell_type": "code",
   "execution_count": 57,
   "metadata": {},
   "outputs": [
    {
     "data": {
      "text/plain": [
       "4992"
      ]
     },
     "execution_count": 57,
     "metadata": {},
     "output_type": "execute_result"
    }
   ],
   "source": [
    "# combining files in broken file and data directories to get the complete review data\n",
    "try:\n",
    "    review4 = len(get_reviews('broken_file.json', 'review4.csv'))\n",
    "    review1 = len(get_reviews('review1.json', 'review1.csv'))\n",
    "    review2 = len(get_reviews('review2.json', 'review2.csv'))\n",
    "    review3 = len(get_reviews('review3.json', 'review3.csv'))\n",
    "    review5 = len(get_reviews('review5.json', 'review5.csv'))\n",
    "    total_num_reviews = review1 + review2 + review3 + review4 + review5\n",
    "\n",
    "except:\n",
    "    full_data = {}\n",
    "    broken_file_data = []\n",
    "    for file in broken_files:\n",
    "        broken_file_data.append(read_json_path(file))\n",
    "    broken_file_data\n",
    "    for review in broken_file_data:\n",
    "        for num in review:\n",
    "            full_data[num] = review[num]\n",
    "    write_json(full_data, os.path.join('data', 'broken_file.json'))\n",
    "    \n",
    "    review4 = len(get_reviews('broken_file.json', 'review4.csv'))\n",
    "    review1 = len(get_reviews('review1.json', 'review1.csv'))\n",
    "    review2 = len(get_reviews('review2.json', 'review2.csv'))\n",
    "    review3 = len(get_reviews('review3.json', 'review3.csv'))\n",
    "    review5 = len(get_reviews('review5.json', 'review5.csv'))\n",
    "    total_num_reviews = review1 + review2 + review3 + review4 + review5\n",
    "\n",
    "os.remove(os.path.join('data', 'broken_file.json'))\n",
    "total_num_reviews # total number of reviews found in review data"
   ]
  },
  {
   "cell_type": "code",
   "execution_count": 59,
   "metadata": {},
   "outputs": [
    {
     "data": {
      "text/plain": [
       "0.31190229022053717"
      ]
     },
     "execution_count": 59,
     "metadata": {},
     "output_type": "execute_result"
    }
   ],
   "source": [
    "# change in average rating caused by the addition of the new data \n",
    "# for Fire Tablet, 7 Display, Wi-Fi, 8 GB - Includes Special Offers, Magenta\n",
    "prod_count = 0\n",
    "prod_rating = 0\n",
    "for review in comp_reviews:\n",
    "    if review.asin == 'B018Y229OU':\n",
    "        prod_count += 1\n",
    "        prod_rating += review.rating\n",
    "        avg_rating = prod_rating/prod_count\n",
    "avg_rating\n",
    "for asin in asin_averages:\n",
    "    if asin == 'B018Y229OU':\n",
    "        change = avg_rating - asin_averages[asin]\n",
    "        pct_change = (change/asin_averages[asin]) * 100\n",
    "pct_change"
   ]
  },
  {
   "cell_type": "code",
   "execution_count": null,
   "metadata": {},
   "outputs": [],
   "source": []
  }
 ],
 "metadata": {
  "kernelspec": {
   "display_name": "Python 3",
   "language": "python",
   "name": "python3"
  },
  "language_info": {
   "codemirror_mode": {
    "name": "ipython",
    "version": 3
   },
   "file_extension": ".py",
   "mimetype": "text/x-python",
   "name": "python",
   "nbconvert_exporter": "python",
   "pygments_lexer": "ipython3",
   "version": "3.7.4"
  }
 },
 "nbformat": 4,
 "nbformat_minor": 2
}
